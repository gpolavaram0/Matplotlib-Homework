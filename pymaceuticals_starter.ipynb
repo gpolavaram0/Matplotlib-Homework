{
 "cells": [
  {
   "cell_type": "markdown",
   "metadata": {},
   "source": [
    "## Observations and Insights"
   ]
  },
  {
   "cell_type": "markdown",
   "metadata": {},
   "source": []
  },
  {
   "cell_type": "markdown",
   "metadata": {},
   "source": [
    "## Dependencies and starter code"
   ]
  },
  {
   "cell_type": "code",
   "execution_count": 816,
   "metadata": {},
   "outputs": [],
   "source": [
    "# Dependencies and Setup\n",
    "import matplotlib.pyplot as plt\n",
    "import pandas as pd\n",
    "import scipy.stats as st\n",
    "import numpy as np\n",
    "from scipy.stats import linregress\n",
    "\n",
    "# Study data files\n",
    "mouse_metadata = \"data/Mouse_metadata.csv\"\n",
    "study_results = \"data/Study_results.csv\"\n",
    "\n",
    "# Read the mouse data and the study results\n",
    "mouse_metadata = pd.read_csv(mouse_metadata)\n",
    "study_results = pd.read_csv(study_results)\n",
    "\n",
    "# Combine the data into a single dataset"
   ]
  },
  {
   "cell_type": "markdown",
   "metadata": {},
   "source": [
    "## Summary statistics"
   ]
  },
  {
   "cell_type": "code",
   "execution_count": 817,
   "metadata": {},
   "outputs": [
    {
     "data": {
      "text/html": [
       "<div>\n",
       "<style scoped>\n",
       "    .dataframe tbody tr th:only-of-type {\n",
       "        vertical-align: middle;\n",
       "    }\n",
       "\n",
       "    .dataframe tbody tr th {\n",
       "        vertical-align: top;\n",
       "    }\n",
       "\n",
       "    .dataframe thead th {\n",
       "        text-align: right;\n",
       "    }\n",
       "</style>\n",
       "<table border=\"1\" class=\"dataframe\">\n",
       "  <thead>\n",
       "    <tr style=\"text-align: right;\">\n",
       "      <th></th>\n",
       "      <th>Drug Regimen</th>\n",
       "      <th>Sex</th>\n",
       "      <th>Age_months</th>\n",
       "      <th>Weight (g)</th>\n",
       "      <th>Tumor Volume Mean (mm3)</th>\n",
       "      <th>Tumor Volume Median (mm3)</th>\n",
       "      <th>Tumor Volume Variance (mm3)</th>\n",
       "      <th>Tumor Volume Std (mm3)</th>\n",
       "      <th>Tumor Volume SEM (mm3)</th>\n",
       "    </tr>\n",
       "    <tr>\n",
       "      <th>Mouse ID index</th>\n",
       "      <th></th>\n",
       "      <th></th>\n",
       "      <th></th>\n",
       "      <th></th>\n",
       "      <th></th>\n",
       "      <th></th>\n",
       "      <th></th>\n",
       "      <th></th>\n",
       "      <th></th>\n",
       "    </tr>\n",
       "  </thead>\n",
       "  <tbody>\n",
       "    <tr>\n",
       "      <th>a203</th>\n",
       "      <td>Infubinol</td>\n",
       "      <td>Female</td>\n",
       "      <td>20</td>\n",
       "      <td>23</td>\n",
       "      <td>56.312708</td>\n",
       "      <td>55.983272</td>\n",
       "      <td>50.407041</td>\n",
       "      <td>7.099792</td>\n",
       "      <td>2.245151</td>\n",
       "    </tr>\n",
       "    <tr>\n",
       "      <th>a251</th>\n",
       "      <td>Infubinol</td>\n",
       "      <td>Female</td>\n",
       "      <td>21</td>\n",
       "      <td>25</td>\n",
       "      <td>55.237095</td>\n",
       "      <td>55.938620</td>\n",
       "      <td>51.740730</td>\n",
       "      <td>7.193103</td>\n",
       "      <td>2.274659</td>\n",
       "    </tr>\n",
       "    <tr>\n",
       "      <th>a262</th>\n",
       "      <td>Placebo</td>\n",
       "      <td>Female</td>\n",
       "      <td>17</td>\n",
       "      <td>29</td>\n",
       "      <td>58.611631</td>\n",
       "      <td>58.572588</td>\n",
       "      <td>84.759928</td>\n",
       "      <td>9.206515</td>\n",
       "      <td>2.911356</td>\n",
       "    </tr>\n",
       "    <tr>\n",
       "      <th>a275</th>\n",
       "      <td>Ceftamin</td>\n",
       "      <td>Female</td>\n",
       "      <td>20</td>\n",
       "      <td>28</td>\n",
       "      <td>52.770965</td>\n",
       "      <td>52.044750</td>\n",
       "      <td>36.322924</td>\n",
       "      <td>6.026850</td>\n",
       "      <td>1.905857</td>\n",
       "    </tr>\n",
       "    <tr>\n",
       "      <th>a366</th>\n",
       "      <td>Stelasyn</td>\n",
       "      <td>Female</td>\n",
       "      <td>16</td>\n",
       "      <td>29</td>\n",
       "      <td>54.639906</td>\n",
       "      <td>55.265582</td>\n",
       "      <td>38.415384</td>\n",
       "      <td>6.198015</td>\n",
       "      <td>2.342629</td>\n",
       "    </tr>\n",
       "    <tr>\n",
       "      <th>...</th>\n",
       "      <td>...</td>\n",
       "      <td>...</td>\n",
       "      <td>...</td>\n",
       "      <td>...</td>\n",
       "      <td>...</td>\n",
       "      <td>...</td>\n",
       "      <td>...</td>\n",
       "      <td>...</td>\n",
       "      <td>...</td>\n",
       "    </tr>\n",
       "    <tr>\n",
       "      <th>z435</th>\n",
       "      <td>Propriva</td>\n",
       "      <td>Female</td>\n",
       "      <td>12</td>\n",
       "      <td>26</td>\n",
       "      <td>46.942214</td>\n",
       "      <td>47.115980</td>\n",
       "      <td>3.464898</td>\n",
       "      <td>1.861424</td>\n",
       "      <td>1.074693</td>\n",
       "    </tr>\n",
       "    <tr>\n",
       "      <th>z578</th>\n",
       "      <td>Ramicane</td>\n",
       "      <td>Male</td>\n",
       "      <td>11</td>\n",
       "      <td>16</td>\n",
       "      <td>38.411510</td>\n",
       "      <td>38.160380</td>\n",
       "      <td>17.969628</td>\n",
       "      <td>4.239060</td>\n",
       "      <td>1.340508</td>\n",
       "    </tr>\n",
       "    <tr>\n",
       "      <th>z581</th>\n",
       "      <td>Infubinol</td>\n",
       "      <td>Female</td>\n",
       "      <td>24</td>\n",
       "      <td>25</td>\n",
       "      <td>53.979584</td>\n",
       "      <td>53.062175</td>\n",
       "      <td>29.827123</td>\n",
       "      <td>5.461421</td>\n",
       "      <td>1.727053</td>\n",
       "    </tr>\n",
       "    <tr>\n",
       "      <th>z795</th>\n",
       "      <td>Naftisol</td>\n",
       "      <td>Female</td>\n",
       "      <td>13</td>\n",
       "      <td>29</td>\n",
       "      <td>54.880317</td>\n",
       "      <td>55.613879</td>\n",
       "      <td>53.416711</td>\n",
       "      <td>7.308674</td>\n",
       "      <td>2.311206</td>\n",
       "    </tr>\n",
       "    <tr>\n",
       "      <th>z969</th>\n",
       "      <td>Naftisol</td>\n",
       "      <td>Male</td>\n",
       "      <td>9</td>\n",
       "      <td>30</td>\n",
       "      <td>60.194652</td>\n",
       "      <td>60.522215</td>\n",
       "      <td>94.626337</td>\n",
       "      <td>9.727607</td>\n",
       "      <td>3.076139</td>\n",
       "    </tr>\n",
       "  </tbody>\n",
       "</table>\n",
       "<p>249 rows × 9 columns</p>\n",
       "</div>"
      ],
      "text/plain": [
       "               Drug Regimen     Sex  Age_months  Weight (g)  \\\n",
       "Mouse ID index                                                \n",
       "a203              Infubinol  Female          20          23   \n",
       "a251              Infubinol  Female          21          25   \n",
       "a262                Placebo  Female          17          29   \n",
       "a275               Ceftamin  Female          20          28   \n",
       "a366               Stelasyn  Female          16          29   \n",
       "...                     ...     ...         ...         ...   \n",
       "z435               Propriva  Female          12          26   \n",
       "z578               Ramicane    Male          11          16   \n",
       "z581              Infubinol  Female          24          25   \n",
       "z795               Naftisol  Female          13          29   \n",
       "z969               Naftisol    Male           9          30   \n",
       "\n",
       "                Tumor Volume Mean (mm3)  Tumor Volume Median (mm3)  \\\n",
       "Mouse ID index                                                       \n",
       "a203                          56.312708                  55.983272   \n",
       "a251                          55.237095                  55.938620   \n",
       "a262                          58.611631                  58.572588   \n",
       "a275                          52.770965                  52.044750   \n",
       "a366                          54.639906                  55.265582   \n",
       "...                                 ...                        ...   \n",
       "z435                          46.942214                  47.115980   \n",
       "z578                          38.411510                  38.160380   \n",
       "z581                          53.979584                  53.062175   \n",
       "z795                          54.880317                  55.613879   \n",
       "z969                          60.194652                  60.522215   \n",
       "\n",
       "                Tumor Volume Variance (mm3)  Tumor Volume Std (mm3)  \\\n",
       "Mouse ID index                                                        \n",
       "a203                              50.407041                7.099792   \n",
       "a251                              51.740730                7.193103   \n",
       "a262                              84.759928                9.206515   \n",
       "a275                              36.322924                6.026850   \n",
       "a366                              38.415384                6.198015   \n",
       "...                                     ...                     ...   \n",
       "z435                               3.464898                1.861424   \n",
       "z578                              17.969628                4.239060   \n",
       "z581                              29.827123                5.461421   \n",
       "z795                              53.416711                7.308674   \n",
       "z969                              94.626337                9.727607   \n",
       "\n",
       "                Tumor Volume SEM (mm3)  \n",
       "Mouse ID index                          \n",
       "a203                          2.245151  \n",
       "a251                          2.274659  \n",
       "a262                          2.911356  \n",
       "a275                          1.905857  \n",
       "a366                          2.342629  \n",
       "...                                ...  \n",
       "z435                          1.074693  \n",
       "z578                          1.340508  \n",
       "z581                          1.727053  \n",
       "z795                          2.311206  \n",
       "z969                          3.076139  \n",
       "\n",
       "[249 rows x 9 columns]"
      ]
     },
     "execution_count": 817,
     "metadata": {},
     "output_type": "execute_result"
    }
   ],
   "source": [
    "# Generate a summary statistics table of mean, median, variance, standard deviation, and SEM of the tumor volume for each regimen\n",
    "summ_stats_columns = [\"mean\",\"median\",\"variance\",\"standard deviation\",\"SEM\"]\n",
    "#mouse_ID_list = mouse_metadata['Mouse ID']\n",
    "df_study_results_tumor_vol = pd.DataFrame(study_results.groupby('Mouse ID')['Tumor Volume (mm3)'].mean())\n",
    "df_study_results_tumor_med = pd.DataFrame(study_results.groupby('Mouse ID')['Tumor Volume (mm3)'].median())\n",
    "df_study_results_tumor_var = pd.DataFrame(study_results.groupby('Mouse ID')['Tumor Volume (mm3)'].var())\n",
    "df_study_results_tumor_std = pd.DataFrame(study_results.groupby('Mouse ID')['Tumor Volume (mm3)'].std())\n",
    "df_study_results_tumor_sem = pd.DataFrame(study_results.groupby('Mouse ID')['Tumor Volume (mm3)'].sem())\n",
    "\n",
    "df_mouse_metadata.index.name = \"Mouse ID index\"\n",
    "df_study_results_tumor_vol.index.name = 'Mouse ID index'\n",
    "df_study_results_tumor_med.index.name = 'Mouse ID index'\n",
    "# Generate a bar plot showing number of data points for each treatment regimen using pandas\n",
    "study_results.groupby(\"Mouse ID\")['Timepoint'].mean()\n",
    "study_results_index = study_results.groupby(\"Mouse ID\")['Tumor Volume (mm3)'].mean().index\n",
    "# Generate a bar plot showing number of data points for each treatment regimen using pyplot\n",
    "mouse_metadata.reindex(study_results_index)\n",
    "\n",
    "df_mouse_metadata = mouse_metadata.sort_values(by=['Mouse ID'])\n",
    "\n",
    "#df_mouse_metadata.reset_index(drop=True, inplace=True)\n",
    "#df_study_results_tumor_vol.reset_index(drop=True, inplace=True)\n",
    "\n",
    "df_mouse_metadata.index = [study_results_index]\n",
    "\n",
    "\n",
    "df_mouse_metadata = df_mouse_metadata.set_index('Mouse ID')\n",
    "# Generate a pie plot showing the distribution of female versus male mice using pandas\n",
    "study_results['Mouse ID'].value_counts()\n",
    "\n",
    "#df_mouse_metadata['Avg Tumor Volume (mm3)'] = df_study_results_tumor_vol\n",
    "df_mouse_metadata.index.name = None\n",
    "#df_mouse_metadata.append(df_study_results_tumor_vol)\n",
    "df_study_results_tumor_vol.reindex(study_results_index)\n",
    "df_study_results_tumor_med.reindex(study_results_index)\n",
    "df_mouse_metadata.index.name = \"Mouse ID index\"\n",
    "df_study_results_tumor_vol.index.name = \"Mouse ID index\"\n",
    "#Merged_dfs = df_mouse_metadata.merge(df_study_results_tumor_vol, on=\"Mouse ID index\", how=\"left\")\n",
    "df_mouse_metadata.index.name = \"Mouse ID index\"\n",
    "df_mouse_metadata['Tumor Volume Mean (mm3)'] = df_study_results_tumor_vol\n",
    "df_mouse_metadata['Tumor Volume Median (mm3)'] = df_study_results_tumor_med\n",
    "df_mouse_metadata['Tumor Volume Variance (mm3)'] = df_study_results_tumor_var\n",
    "df_mouse_metadata['Tumor Volume Std (mm3)'] = df_study_results_tumor_std\n",
    "df_mouse_metadata['Tumor Volume SEM (mm3)'] = df_study_results_tumor_sem\n",
    "df_mouse_metadata\n"
   ]
  },
  {
   "cell_type": "markdown",
   "metadata": {},
   "source": [
    "## Bar plots"
   ]
  },
  {
   "cell_type": "code",
   "execution_count": 869,
   "metadata": {},
   "outputs": [
    {
     "data": {
      "text/plain": [
       "<BarContainer object of 10 artists>"
      ]
     },
     "execution_count": 869,
     "metadata": {},
     "output_type": "execute_result"
    },
    {
     "data": {
      "image/png": "[encoded data removed]",
      "text/plain": [
       "<Figure size 1440x720 with 1 Axes>"
      ]
     },
     "metadata": {
      "needs_background": "light"
     },
     "output_type": "display_data"
    }
   ],
   "source": [
    "#number of regimens generated from length of unique value counts of regimen columns stored in x_bar_length\n",
    "x_bar_length = len(df_mouse_metadata['Drug Regimen'].value_counts())\n",
    "x_axis = np.arange(x_bar_length)\n",
    "\n",
    "#Storing regimens as a list for the bar chart x axis\n",
    "x_bar_bins = pd.DataFrame(df_mouse_metadata['Drug Regimen'].value_counts()).index.tolist()\n",
    "\n",
    "#count for x frequency\n",
    "x_bar_count = df_mouse_metadata['Drug Regimen'].value_counts()\n",
    "\n",
    "#figure size change to see it better\n",
    "plt.figure(figsize=(20,10))\n",
    "\n",
    "#tick locations\n",
    "tick_locations = [value for value in x_axis]\n",
    "plt.xticks(tick_locations, x_bar_bins)\n",
    "\n",
    "plt.title('Number of data points for each treatment regimen (Pandas)')\n",
    "plt.xlabel('Regimens')\n",
    "plt.ylabel('Frequency')\n",
    "\n",
    "#plotting the bar chart\n",
    "plt.bar(x_axis, df_mouse_metadata['Drug Regimen'].value_counts(), color='r', alpha=0.5, align=\"center\")\n",
    "\n",
    "#dimensions to spread it otu horizontally\n"
   ]
  },
  {
   "cell_type": "code",
   "execution_count": 819,
   "metadata": {},
   "outputs": [
    {
     "data": {
      "text/plain": [
       "<matplotlib.axes._subplots.AxesSubplot at 0x2c0053060c8>"
      ]
     },
     "execution_count": 819,
     "metadata": {},
     "output_type": "execute_result"
    },
    {
     "data": {
      "image/png": "[encoded data removed]",
      "text/plain": [
       "<Figure size 1440x720 with 1 Axes>"
      ]
     },
     "metadata": {
      "needs_background": "light"
     },
     "output_type": "display_data"
    }
   ],
   "source": [
    "\n",
    "pd.DataFrame(df_mouse_metadata['Drug Regimen'].value_counts()).plot.bar(figsize=(20,10),color='Salmon')\n"
   ]
  },
  {
   "cell_type": "code",
   "execution_count": 820,
   "metadata": {},
   "outputs": [
    {
     "data": {
      "text/plain": [
       "['Ketapril',\n",
       " 'Ceftamin',\n",
       " 'Ramicane',\n",
       " 'Placebo',\n",
       " 'Capomulin',\n",
       " 'Infubinol',\n",
       " 'Zoniferol',\n",
       " 'Propriva',\n",
       " 'Naftisol',\n",
       " 'Stelasyn']"
      ]
     },
     "execution_count": 820,
     "metadata": {},
     "output_type": "execute_result"
    }
   ],
   "source": [
    "x_bar_bins"
   ]
  },
  {
   "cell_type": "markdown",
   "metadata": {},
   "source": [
    "## Pie plots"
   ]
  },
  {
   "cell_type": "code",
   "execution_count": 821,
   "metadata": {},
   "outputs": [
    {
     "data": {
      "text/plain": [
       "([<matplotlib.patches.Wedge at 0x2c005738288>,\n",
       "  <matplotlib.patches.Wedge at 0x2c005738b88>],\n",
       " [Text(-0.0069391759767656585, 1.0999781124353174, 'Male'),\n",
       "  Text(0.006939175976765524, -1.0999781124353174, 'Female')],\n",
       " [Text(-0.0037850050782358134, 0.5999880613283548, '50.2%'),\n",
       "  Text(0.00378500507823574, -0.5999880613283548, '49.8%')])"
      ]
     },
     "execution_count": 821,
     "metadata": {},
     "output_type": "execute_result"
    },
    {
     "data": {
      "image/png": "[encoded data removed]",
      "text/plain": [
       "<Figure size 720x1440 with 1 Axes>"
      ]
     },
     "metadata": {},
     "output_type": "display_data"
    }
   ],
   "source": [
    "plt.figure(figsize=(10,20))\n",
    "plt.title(\"MatplotLib Pie Chart for Mouse Sex Population (Male vs Female)\")\n",
    "pie_labels = list([df_mouse_metadata['Sex'].value_counts().index[0],df_mouse_metadata['Sex'].value_counts().index[1]])\n",
    "pie_sizes= [df_mouse_metadata['Sex'].value_counts()[0] , df_mouse_metadata['Sex'].value_counts()[1]]\n",
    "#plt.pie([73,44], labels=df_mouse_metadata['Sex'].value_counts()\n",
    "plt.pie(pie_sizes, labels=pie_labels, autopct=\"%1.1f%%\")\n"
   ]
  },
  {
   "cell_type": "code",
   "execution_count": 822,
   "metadata": {},
   "outputs": [
    {
     "data": {
      "text/plain": [
       "Text(0.5, 1.0, 'Pandas Pie Chart for Mouse Sex Population (Male vs Female)')"
      ]
     },
     "execution_count": 822,
     "metadata": {},
     "output_type": "execute_result"
    },
    {
     "data": {
      "image/png": "[encoded data removed]",
      "text/plain": [
       "<Figure size 1440x720 with 1 Axes>"
      ]
     },
     "metadata": {},
     "output_type": "display_data"
    }
   ],
   "source": [
    "# Generate a pie plot showing the distribution of female versus male mice using pyplot\n",
    "\n",
    "df_mouse_metadata['Sex'].value_counts().index\n",
    "\n",
    "\n",
    "pd.DataFrame(df_mouse_metadata['Sex'].value_counts()).plot.pie(figsize=(20,10), subplots = True, )\n",
    "plt.title(\"Pandas Pie Chart for Mouse Sex Population (Male vs Female)\")"
   ]
  },
  {
   "cell_type": "markdown",
   "metadata": {},
   "source": [
    "## Quartiles, outliers and boxplots"
   ]
  },
  {
   "cell_type": "code",
   "execution_count": 823,
   "metadata": {},
   "outputs": [
    {
     "data": {
      "text/html": [
       "<div>\n",
       "<style scoped>\n",
       "    .dataframe tbody tr th:only-of-type {\n",
       "        vertical-align: middle;\n",
       "    }\n",
       "\n",
       "    .dataframe tbody tr th {\n",
       "        vertical-align: top;\n",
       "    }\n",
       "\n",
       "    .dataframe thead th {\n",
       "        text-align: right;\n",
       "    }\n",
       "</style>\n",
       "<table border=\"1\" class=\"dataframe\">\n",
       "  <thead>\n",
       "    <tr style=\"text-align: right;\">\n",
       "      <th></th>\n",
       "      <th>Drug Regimen</th>\n",
       "      <th>Final Tumor Volume (mm3)</th>\n",
       "    </tr>\n",
       "    <tr>\n",
       "      <th>Mouse ID index</th>\n",
       "      <th></th>\n",
       "      <th></th>\n",
       "    </tr>\n",
       "  </thead>\n",
       "  <tbody>\n",
       "    <tr>\n",
       "      <th>a203</th>\n",
       "      <td>Infubinol</td>\n",
       "      <td>67.973419</td>\n",
       "    </tr>\n",
       "    <tr>\n",
       "      <th>a251</th>\n",
       "      <td>Infubinol</td>\n",
       "      <td>65.525743</td>\n",
       "    </tr>\n",
       "    <tr>\n",
       "      <th>a275</th>\n",
       "      <td>Ceftamin</td>\n",
       "      <td>62.999356</td>\n",
       "    </tr>\n",
       "    <tr>\n",
       "      <th>a411</th>\n",
       "      <td>Ramicane</td>\n",
       "      <td>38.407618</td>\n",
       "    </tr>\n",
       "    <tr>\n",
       "      <th>a444</th>\n",
       "      <td>Ramicane</td>\n",
       "      <td>43.047543</td>\n",
       "    </tr>\n",
       "    <tr>\n",
       "      <th>...</th>\n",
       "      <td>...</td>\n",
       "      <td>...</td>\n",
       "    </tr>\n",
       "    <tr>\n",
       "      <th>y769</th>\n",
       "      <td>Ceftamin</td>\n",
       "      <td>68.594745</td>\n",
       "    </tr>\n",
       "    <tr>\n",
       "      <th>y793</th>\n",
       "      <td>Capomulin</td>\n",
       "      <td>31.896238</td>\n",
       "    </tr>\n",
       "    <tr>\n",
       "      <th>y865</th>\n",
       "      <td>Ceftamin</td>\n",
       "      <td>64.729837</td>\n",
       "    </tr>\n",
       "    <tr>\n",
       "      <th>z578</th>\n",
       "      <td>Ramicane</td>\n",
       "      <td>30.638696</td>\n",
       "    </tr>\n",
       "    <tr>\n",
       "      <th>z581</th>\n",
       "      <td>Infubinol</td>\n",
       "      <td>62.754451</td>\n",
       "    </tr>\n",
       "  </tbody>\n",
       "</table>\n",
       "<p>100 rows × 2 columns</p>\n",
       "</div>"
      ],
      "text/plain": [
       "               Drug Regimen  Final Tumor Volume (mm3)\n",
       "Mouse ID index                                       \n",
       "a203              Infubinol                 67.973419\n",
       "a251              Infubinol                 65.525743\n",
       "a275               Ceftamin                 62.999356\n",
       "a411               Ramicane                 38.407618\n",
       "a444               Ramicane                 43.047543\n",
       "...                     ...                       ...\n",
       "y769               Ceftamin                 68.594745\n",
       "y793              Capomulin                 31.896238\n",
       "y865               Ceftamin                 64.729837\n",
       "z578               Ramicane                 30.638696\n",
       "z581              Infubinol                 62.754451\n",
       "\n",
       "[100 rows x 2 columns]"
      ]
     },
     "execution_count": 823,
     "metadata": {},
     "output_type": "execute_result"
    }
   ],
   "source": [
    "# Calculate the final tumor volume of each mouse across four of the most promising treatment regimens. Calculate the IQR and quantitatively determine if there are any potential outliers.\n",
    "\n",
    "#Added final tumor volumes to master DF\n",
    "df_study_results_tumor_last = pd.DataFrame(study_results.groupby('Mouse ID')['Tumor Volume (mm3)'].last())\n",
    "df_mouse_metadata[\"Final Tumor Volume (mm3)\"] = df_study_results_tumor_last\n",
    "\n",
    "#Loc'ed columns with drug regimen and final tumor volume\n",
    "df_mouse_metadata\n",
    "#df_mouse_metadata.iloc[:,[0, 9]]\n",
    "#Filter \"Drug Regimen\" column by Capomulin, Ramicane, Infubinol, and Ceftamin and store in df_DR_and_Final_vol\n",
    "df_DR_and_Final_vol = df_mouse_metadata[(df_mouse_metadata['Drug Regimen'] == 'Infubinol') | (df_mouse_metadata['Drug Regimen'] == 'Capomulin') | (df_mouse_metadata['Drug Regimen'] == 'Ramicane') | (df_mouse_metadata['Drug Regimen'] == 'Ceftamin')]\n",
    "df_DR_and_Final_vol = df_DR_and_Final_vol.iloc[:,[0, 9]]\n",
    "df_DR_and_Final_vol"
   ]
  },
  {
   "cell_type": "code",
   "execution_count": 824,
   "metadata": {},
   "outputs": [
    {
     "data": {
      "image/png": "[encoded data removed]",
      "text/plain": [
       "<Figure size 432x288 with 1 Axes>"
      ]
     },
     "metadata": {
      "needs_background": "light"
     },
     "output_type": "display_data"
    },
    {
     "name": "stdout",
     "output_type": "stream",
     "text": [
      "The lower quartile of Capomulin Tumor Volumes is: 32.37735684\n",
      "The upper quartile of Capomulin Tumor Volumes is: 40.1592203\n",
      "The interquartile range of Capomulin Tumor Volumes is: 7.781863460000004\n",
      "The the median of Capomulin Tumor Volumes is: 38.125164399999996 \n",
      "Capomulin values below 20.70456164999999 could be outliers.\n",
      "Capomulin values above 51.83201549 could be outliers.\n"
     ]
    },
    {
     "data": {
      "image/png": "[encoded data removed]",
      "text/plain": [
       "<Figure size 432x288 with 1 Axes>"
      ]
     },
     "metadata": {
      "needs_background": "light"
     },
     "output_type": "display_data"
    },
    {
     "name": "stdout",
     "output_type": "stream",
     "text": [
      "The lower quartile of Ramicane Tumor Volumes is: 31.56046955\n",
      "The upper quartile of Ramicane Tumor Volumes is: 40.65900627\n",
      "The interquartile range of Ramicane Tumor Volumes is: 9.098536719999998\n",
      "The the median of Ramicane Tumor Volumes is: 36.56165229 \n",
      "Ramicane values below 17.912664470000003 could be outliers.\n",
      "Ramicane values above 54.30681135 could be outliers.\n"
     ]
    },
    {
     "data": {
      "image/png": "[encoded data removed]",
      "text/plain": [
       "<Figure size 432x288 with 1 Axes>"
      ]
     },
     "metadata": {
      "needs_background": "light"
     },
     "output_type": "display_data"
    },
    {
     "name": "stdout",
     "output_type": "stream",
     "text": [
      "The lower quartile of Infubinol Tumor Volumes is: 54.04860769\n",
      "The upper quartile of Infubinol Tumor Volumes is: 65.52574285\n",
      "The interquartile range of Infubinol Tumor Volumes is: 11.477135160000003\n",
      "The the median of Infubinol Tumor Volumes is: 60.16518046 \n",
      "Infubinol values below 36.83290494999999 could be outliers.\n",
      "Infubinol values above 82.74144559000001 could be outliers.\n"
     ]
    },
    {
     "data": {
      "image/png": "[encoded data removed]",
      "text/plain": [
       "<Figure size 432x288 with 1 Axes>"
      ]
     },
     "metadata": {
      "needs_background": "light"
     },
     "output_type": "display_data"
    },
    {
     "name": "stdout",
     "output_type": "stream",
     "text": [
      "The lower quartile of Ceftamin Tumor Volumes is: 48.72207785\n",
      "The upper quartile of Ceftamin Tumor Volumes is: 64.29983003\n",
      "The interquartile range of Ceftamin Tumor Volumes is: 15.577752179999997\n",
      "The the median of Ceftamin Tumor Volumes is: 59.85195552 \n",
      "Ceftamin values below 25.355449580000002 could be outliers.\n",
      "Ceftamin values above 87.66645829999999 could be outliers.\n"
     ]
    }
   ],
   "source": [
    "# Generate a box plot of the final tumor volume of each mouse across four regimens of interest\n",
    "df_DR_and_Final_vol['Final Tumor Volume (mm3)'].max().round(2)\n",
    "\n",
    "df_DR_and_Final_Capomulin = df_mouse_metadata[(df_mouse_metadata['Drug Regimen'] == 'Capomulin')].iloc[:,[0, 9]]\n",
    "#Tumor volumes for final values stored in Tumor_Volumes\n",
    "Tumor_Volumes_Capomulin_list = list(np.arange(df_DR_and_Final_Capomulin['Final Tumor Volume (mm3)'].min().round(2),df_DR_and_Final_vol['Final Tumor Volume (mm3)'].max().round(2) + 1, 1))\n",
    "#Tumor_Volumes_Capomulin_series = (np.arange(df_DR_and_Final_Capomulin['Final Tumor Volume (mm3)'].min().round(2),df_DR_and_Final_vol['Final Tumor Volume (mm3)'].max().round(2) + 1, 1))\n",
    "\n",
    "fig1, ax1 = plt.subplots()\n",
    "ax1.set_title('Final Tumor Sizes for mice on Capomulin')\n",
    "ax1.set_ylabel('Final Tumor Volume (mm3)')\n",
    "ax1.boxplot(list(df_DR_and_Final_Capomulin['Final Tumor Volume (mm3)']))\n",
    "plt.show()\n",
    "quartiles = df_DR_and_Final_Capomulin['Final Tumor Volume (mm3)'].quantile([.25,.5,.75])\n",
    "lowerq = quartiles[0.25]\n",
    "upperq = quartiles[0.75]\n",
    "iqr = upperq-lowerq\n",
    "\n",
    "print(f\"The lower quartile of Capomulin Tumor Volumes is: {lowerq}\")\n",
    "print(f\"The upper quartile of Capomulin Tumor Volumes is: {upperq}\")\n",
    "print(f\"The interquartile range of Capomulin Tumor Volumes is: {iqr}\")\n",
    "print(f\"The the median of Capomulin Tumor Volumes is: {quartiles[0.5]} \")\n",
    "lower_bound = lowerq - (1.5*iqr)\n",
    "upper_bound = upperq + (1.5*iqr)\n",
    "print(f\"Capomulin values below {lower_bound} could be outliers.\")\n",
    "print(f\"Capomulin values above {upper_bound} could be outliers.\")\n",
    "\n",
    "df_DR_and_Final_vol['Final Tumor Volume (mm3)'].max().round(2)\n",
    "\n",
    "df_DR_and_Final_Ramicane = df_mouse_metadata[(df_mouse_metadata['Drug Regimen'] == 'Ramicane')].iloc[:,[0, 9]]\n",
    "#Tumor volumes for final values stored in Tumor_Volumes\n",
    "Tumor_Volumes_Ramicane_list = list(np.arange(df_DR_and_Final_Ramicane['Final Tumor Volume (mm3)'].min().round(2),df_DR_and_Final_vol['Final Tumor Volume (mm3)'].max().round(2) + 1, 1))\n",
    "#Tumor_Volumes_Ramicane_series = (np.arange(df_DR_and_Final_Ramicane['Final Tumor Volume (mm3)'].min().round(2),df_DR_and_Final_vol['Final Tumor Volume (mm3)'].max().round(2) + 1, 1))\n",
    "\n",
    "fig1, ax1 = plt.subplots()\n",
    "ax1.set_title('Final Tumor Sizes for mice on Ramicane')\n",
    "ax1.set_ylabel('Final Tumor Volume (mm3)')\n",
    "ax1.boxplot(list(df_DR_and_Final_Ramicane['Final Tumor Volume (mm3)']))\n",
    "plt.show()\n",
    "quartiles = df_DR_and_Final_Ramicane['Final Tumor Volume (mm3)'].quantile([.25,.5,.75])\n",
    "lowerq = quartiles[0.25]\n",
    "upperq = quartiles[0.75]\n",
    "iqr = upperq-lowerq\n",
    "\n",
    "print(f\"The lower quartile of Ramicane Tumor Volumes is: {lowerq}\")\n",
    "print(f\"The upper quartile of Ramicane Tumor Volumes is: {upperq}\")\n",
    "print(f\"The interquartile range of Ramicane Tumor Volumes is: {iqr}\")\n",
    "print(f\"The the median of Ramicane Tumor Volumes is: {quartiles[0.5]} \")\n",
    "lower_bound = lowerq - (1.5*iqr)\n",
    "upper_bound = upperq + (1.5*iqr)\n",
    "print(f\"Ramicane values below {lower_bound} could be outliers.\")\n",
    "print(f\"Ramicane values above {upper_bound} could be outliers.\")\n",
    "\n",
    "df_DR_and_Final_vol['Final Tumor Volume (mm3)'].max().round(2)\n",
    "\n",
    "df_DR_and_Final_Infubinol = df_mouse_metadata[(df_mouse_metadata['Drug Regimen'] == 'Infubinol')].iloc[:,[0, 9]]\n",
    "#Tumor volumes for final values stored in Tumor_Volumes\n",
    "Tumor_Volumes_Infubinol_list = list(np.arange(df_DR_and_Final_Infubinol['Final Tumor Volume (mm3)'].min().round(2),df_DR_and_Final_vol['Final Tumor Volume (mm3)'].max().round(2) + 1, 1))\n",
    "#Tumor_Volumes_Infubinol_series = (np.arange(df_DR_and_Final_Infubinol['Final Tumor Volume (mm3)'].min().round(2),df_DR_and_Final_vol['Final Tumor Volume (mm3)'].max().round(2) + 1, 1))\n",
    "\n",
    "fig1, ax1 = plt.subplots()\n",
    "ax1.set_title('Final Tumor Sizes for mice on Infubinol')\n",
    "ax1.set_ylabel('Final Tumor Volume (mm3)')\n",
    "ax1.boxplot(list(df_DR_and_Final_Infubinol['Final Tumor Volume (mm3)']), flierprops=dict(markerfacecolor='r', marker='X'))\n",
    "plt.show()\n",
    "quartiles = df_DR_and_Final_Infubinol['Final Tumor Volume (mm3)'].quantile([.25,.5,.75])\n",
    "lowerq = quartiles[0.25]\n",
    "upperq = quartiles[0.75]\n",
    "iqr = upperq-lowerq\n",
    "\n",
    "print(f\"The lower quartile of Infubinol Tumor Volumes is: {lowerq}\")\n",
    "print(f\"The upper quartile of Infubinol Tumor Volumes is: {upperq}\")\n",
    "print(f\"The interquartile range of Infubinol Tumor Volumes is: {iqr}\")\n",
    "print(f\"The the median of Infubinol Tumor Volumes is: {quartiles[0.5]} \")\n",
    "lower_bound = lowerq - (1.5*iqr)\n",
    "upper_bound = upperq + (1.5*iqr)\n",
    "print(f\"Infubinol values below {lower_bound} could be outliers.\")\n",
    "print(f\"Infubinol values above {upper_bound} could be outliers.\")\n",
    "\n",
    "df_DR_and_Final_vol['Final Tumor Volume (mm3)'].max().round(2)\n",
    "\n",
    "df_DR_and_Final_Ceftamin = df_mouse_metadata[(df_mouse_metadata['Drug Regimen'] == 'Ceftamin')].iloc[:,[0, 9]]\n",
    "#Tumor volumes for final values stored in Tumor_Volumes\n",
    "Tumor_Volumes_Ceftamin_list = list(np.arange(df_DR_and_Final_Ceftamin['Final Tumor Volume (mm3)'].min().round(2),df_DR_and_Final_vol['Final Tumor Volume (mm3)'].max().round(2) + 1, 1))\n",
    "#Tumor_Volumes_Ceftamin_series = (np.arange(df_DR_and_Final_Ceftamin['Final Tumor Volume (mm3)'].min().round(2),df_DR_and_Final_vol['Final Tumor Volume (mm3)'].max().round(2) + 1, 1))\n",
    "\n",
    "fig1, ax1 = plt.subplots()\n",
    "ax1.set_title('Final Tumor Sizes for mice on Ceftamin')\n",
    "ax1.set_ylabel('Final Tumor Volume (mm3)')\n",
    "ax1.boxplot(list(df_DR_and_Final_Ceftamin['Final Tumor Volume (mm3)']),)\n",
    "plt.show()\n",
    "quartiles = df_DR_and_Final_Ceftamin['Final Tumor Volume (mm3)'].quantile([.25,.5,.75])\n",
    "lowerq = quartiles[0.25]\n",
    "upperq = quartiles[0.75]\n",
    "iqr = upperq-lowerq\n",
    "\n",
    "print(f\"The lower quartile of Ceftamin Tumor Volumes is: {lowerq}\")\n",
    "print(f\"The upper quartile of Ceftamin Tumor Volumes is: {upperq}\")\n",
    "print(f\"The interquartile range of Ceftamin Tumor Volumes is: {iqr}\")\n",
    "print(f\"The the median of Ceftamin Tumor Volumes is: {quartiles[0.5]} \")\n",
    "lower_bound = lowerq - (1.5*iqr)\n",
    "upper_bound = upperq + (1.5*iqr)\n",
    "print(f\"Ceftamin values below {lower_bound} could be outliers.\")\n",
    "print(f\"Ceftamin values above {upper_bound} could be outliers.\")\n"
   ]
  },
  {
   "cell_type": "markdown",
   "metadata": {},
   "source": [
    "## Line and scatter plots"
   ]
  },
  {
   "cell_type": "code",
   "execution_count": 837,
   "metadata": {},
   "outputs": [
    {
     "data": {
      "image/png": "[encoded data removed]",
      "text/plain": [
       "<Figure size 432x288 with 1 Axes>"
      ]
     },
     "metadata": {
      "needs_background": "light"
     },
     "output_type": "display_data"
    },
    {
     "data": {
      "text/plain": [
       "<Figure size 14400x720 with 0 Axes>"
      ]
     },
     "metadata": {},
     "output_type": "display_data"
    }
   ],
   "source": [
    "# Generate a line plot of time point versus tumor volume for a mouse treated with Capomulin\n",
    "#Chose b128 as mouse because it was first. loc in timepoint, Mouse ID, and tumor vol\n",
    "df_b128_tumor_vol = study_results.loc[study_results['Mouse ID'] == 'b128', ['Timepoint','Mouse ID','Tumor Volume (mm3)']]\n",
    "#Set timepoint and tumor as series\n",
    "series_b128_tumor_vol = df_b128_tumor_vol['Tumor Volume (mm3)']\n",
    "series_b128_timepoint = df_b128_tumor_vol['Timepoint']\n",
    "\n",
    "#called in series as axis\n",
    "plt.plot(series_b128_timepoint, series_b128_tumor_vol)\n",
    "\n",
    "#labelled axis and title\n",
    "plt.suptitle('Mouse b128 (Capomulin ) Tumor Volume vs Time')\n",
    "plt.xlabel('Timepoint (Days)')\n",
    "plt.ylabel('Tumor Volume (mm3)')\n",
    "plt.figure(figsize=(200,10))\n",
    "plt.show()"
   ]
  },
  {
   "cell_type": "code",
   "execution_count": 857,
   "metadata": {},
   "outputs": [
    {
     "data": {
      "image/png": "[encoded data removed]",
      "text/plain": [
       "<Figure size 720x720 with 1 Axes>"
      ]
     },
     "metadata": {
      "needs_background": "light"
     },
     "output_type": "display_data"
    }
   ],
   "source": [
    "# Generate a scatter plot of mouse weight versus average tumor volume for the Capomulin regimen\n",
    "\n",
    "\n",
    "#loc the weight and tumor avg by Capomulin regimen\n",
    "df_scatter = df_mouse_metadata.loc[df_mouse_metadata['Drug Regimen'] == \"Capomulin\", ['Weight (g)','Tumor Volume Mean (mm3)']]\n",
    "series_scatter_weight = df_scatter['Weight (g)']\n",
    "series_scatter_tumorVolmean = df_scatter['Tumor Volume Mean (mm3)']\n",
    "plt.figure(figsize=(10,10))\n",
    "#labelled the scatter plot\n",
    "plt.title('Scatter plot Weight vs Average Tumor Volume for the Capomulin Regimen')\n",
    "plt.scatter(series_scatter_weight, series_scatter_tumorVolmean)\n",
    "plt.xlabel('Weight (g)')\n",
    "plt.ylabel('Tumor Volume Mean (mm3)')\n",
    "(slope, intercept, rvalue, pvalue, stderr) = linregress(series_scatter_weight, series_scatter_tumorVolmean)\n",
    "regress_values = series_scatter_weight * slope + intercept\n",
    "line_eq = \"y = \" + str(round(slope,2)) + \"x + \" + str(round(intercept,2))\n",
    "plt.plot(series_scatter_weight,regress_values,\"r-\")\n",
    "plt.annotate(line_eq,(6,10),fontsize=20,color=\"red\")\n",
    "\n",
    "plt.show()\n",
    "\n"
   ]
  },
  {
   "cell_type": "markdown",
   "metadata": {},
   "source": [
    "# Calculate the correlation coefficient and linear regression model for mouse weight and average tumor volume for the Capomulin regimen\n",
    "correlation = st.pearsonr(series_scatter_weight,series_scatter_tumorVolmean)\n",
    "print(f\"The correlation coefficient between both factors is {round(correlation[0],2)}\")"
   ]
  },
  {
   "cell_type": "code",
   "execution_count": 858,
   "metadata": {},
   "outputs": [
    {
     "name": "stdout",
     "output_type": "stream",
     "text": [
      "The correlation coefficient between both factors is 0.84\n"
     ]
    }
   ],
   "source": [
    "correlation = st.pearsonr(series_scatter_weight,series_scatter_tumorVolmean)\n",
    "print(f\"The correlation coefficient between both factors is {round(correlation[0],2)}\")"
   ]
  },
  {
   "cell_type": "code",
   "execution_count": null,
   "metadata": {},
   "outputs": [],
   "source": []
  },
  {
   "cell_type": "code",
   "execution_count": null,
   "metadata": {},
   "outputs": [],
   "source": []
  },
  {
   "cell_type": "code",
   "execution_count": null,
   "metadata": {},
   "outputs": [],
   "source": []
  },
  {
   "cell_type": "code",
   "execution_count": null,
   "metadata": {},
   "outputs": [],
   "source": []
  },
  {
   "cell_type": "code",
   "execution_count": null,
   "metadata": {},
   "outputs": [],
   "source": []
  },
  {
   "cell_type": "code",
   "execution_count": null,
   "metadata": {},
   "outputs": [],
   "source": []
  },
  {
   "cell_type": "code",
   "execution_count": null,
   "metadata": {},
   "outputs": [],
   "source": []
  }
 ],
 "metadata": {
  "anaconda-cloud": {},
  "kernelspec": {
   "display_name": "Python 3.7.6 64-bit ('PythonData': conda)",
   "language": "python",
   "name": "python37664bitpythondataconda295494d0ace540d685491cb338ac9b34"
  },
  "language_info": {
   "codemirror_mode": {
    "name": "ipython",
    "version": 3
   },
   "file_extension": ".py",
   "mimetype": "text/x-python",
   "name": "python",
   "nbconvert_exporter": "python",
   "pygments_lexer": "ipython3",
   "version": "3.7.6"
  }
 },
 "nbformat": 4,
 "nbformat_minor": 2
}
